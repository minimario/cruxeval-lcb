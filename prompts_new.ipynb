{
 "cells": [
  {
   "cell_type": "code",
   "execution_count": 1,
   "metadata": {},
   "outputs": [],
   "source": [
    "from datasets import load_dataset\n",
    "ds = load_dataset(\"minimario/livecodebench-execute-v3\")"
   ]
  },
  {
   "cell_type": "code",
   "execution_count": 1,
   "metadata": {},
   "outputs": [
    {
     "ename": "NameError",
     "evalue": "name 'ds' is not defined",
     "output_type": "error",
     "traceback": [
      "\u001b[0;31m---------------------------------------------------------------------------\u001b[0m",
      "\u001b[0;31mNameError\u001b[0m                                 Traceback (most recent call last)",
      "Cell \u001b[0;32mIn[1], line 8\u001b[0m\n\u001b[1;32m      1\u001b[0m \u001b[39mfrom\u001b[39;00m \u001b[39mprompts_new\u001b[39;00m \u001b[39mimport\u001b[39;00m (\n\u001b[1;32m      2\u001b[0m     make_direct_output_prompt_2shot,\n\u001b[1;32m      3\u001b[0m     make_direct_input_2shot_prompt,\n\u001b[1;32m      4\u001b[0m     make_cot_input_1shot_prompt,\n\u001b[1;32m      5\u001b[0m     make_cot_output_prompt_1shot,\n\u001b[1;32m      6\u001b[0m )\n\u001b[0;32m----> 8\u001b[0m s \u001b[39m=\u001b[39m ds[\u001b[39m\"\u001b[39m\u001b[39mtest\u001b[39m\u001b[39m\"\u001b[39m][\u001b[39m0\u001b[39m]\n\u001b[1;32m      9\u001b[0m \u001b[39mprint\u001b[39m(make_direct_input_2shot_prompt(s[\u001b[39m\"\u001b[39m\u001b[39mcode\u001b[39m\u001b[39m\"\u001b[39m], s[\u001b[39m\"\u001b[39m\u001b[39mfunction_name\u001b[39m\u001b[39m\"\u001b[39m], s[\u001b[39m\"\u001b[39m\u001b[39moutput\u001b[39m\u001b[39m\"\u001b[39m]))\n\u001b[1;32m     10\u001b[0m \u001b[39mprint\u001b[39m(\u001b[39m\"\u001b[39m\u001b[39m-\u001b[39m\u001b[39m\"\u001b[39m \u001b[39m*\u001b[39m \u001b[39m10\u001b[39m)\n",
      "\u001b[0;31mNameError\u001b[0m: name 'ds' is not defined"
     ]
    }
   ],
   "source": [
    "from prompts_new import (\n",
    "    make_direct_output_prompt_2shot,\n",
    "    make_direct_input_2shot_prompt,\n",
    "    make_cot_input_1shot_prompt,\n",
    "    make_cot_output_prompt_1shot,\n",
    ")\n",
    "\n",
    "s = ds[\"test\"][0]\n",
    "print(make_direct_input_2shot_prompt(s[\"code\"], s[\"function_name\"], s[\"output\"]))\n",
    "print(\"-\" * 10)\n",
    "print(make_cot_input_1shot_prompt(s[\"code\"], s[\"function_name\"], s[\"output\"]))\n",
    "print(\"-\" * 10)\n",
    "print(make_direct_output_prompt_2shot(s[\"code\"], s[\"input\"]))\n",
    "print(\"-\" * 10)\n",
    "print(make_cot_output_prompt_1shot(s[\"code\"], s[\"input\"]))\n",
    "print(\"-\" * 10)"
   ]
  }
 ],
 "metadata": {
  "kernelspec": {
   "display_name": "Python 3",
   "language": "python",
   "name": "python3"
  },
  "language_info": {
   "codemirror_mode": {
    "name": "ipython",
    "version": 3
   },
   "file_extension": ".py",
   "mimetype": "text/x-python",
   "name": "python",
   "nbconvert_exporter": "python",
   "pygments_lexer": "ipython3",
   "version": "3.9.18"
  },
  "orig_nbformat": 4
 },
 "nbformat": 4,
 "nbformat_minor": 2
}
